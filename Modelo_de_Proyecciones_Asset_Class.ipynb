{
  "cells": [
    {
      "cell_type": "markdown",
      "metadata": {
        "id": "view-in-github",
        "colab_type": "text"
      },
      "source": [
        "<a href=\"https://colab.research.google.com/github/odacostaz/GameOfLife/blob/main/Modelo_de_Proyecciones_Asset_Class.ipynb\" target=\"_parent\"><img src=\"https://colab.research.google.com/assets/colab-badge.svg\" alt=\"Open In Colab\"/></a>"
      ]
    },
    {
      "cell_type": "markdown",
      "metadata": {
        "id": "Bsy86-q9go-X"
      },
      "source": [
        "#Paquetes usados"
      ]
    },
    {
      "cell_type": "code",
      "execution_count": null,
      "metadata": {
        "id": "CgjSjjRabeoq"
      },
      "outputs": [],
      "source": [
        "#from google.colab import drive\n",
        "#drive.mount('/content/drive')"
      ]
    },
    {
      "cell_type": "code",
      "execution_count": null,
      "metadata": {
        "id": "Yw8CFPiUeaGX"
      },
      "outputs": [],
      "source": [
        "import pandas as pd # Para manipulación de datos \n",
        "import numpy as np # Biblioteca numérica\n",
        "from sklearn.model_selection import train_test_split # Para separar datos de entrenamiento y prueba\n",
        "from sklearn.linear_model import  LinearRegression # Para hacer la regresión linear\n",
        "from sklearn.metrics import r2_score # Coeficiente de determinación\n",
        "from sklearn.metrics import mean_squared_error # Error cuadrático medio\n",
        "import matplotlib.pyplot as plt # Gráficos\n",
        "import seaborn as sns # Gráficos estadísticos"
      ]
    },
    {
      "cell_type": "markdown",
      "metadata": {
        "id": "LNB-WuuUgt4a"
      },
      "source": [
        "#Preprocesamiento de los datos"
      ]
    },
    {
      "cell_type": "code",
      "execution_count": null,
      "metadata": {
        "colab": {
          "base_uri": "https://localhost:8080/",
          "height": 345
        },
        "id": "XWCrASKjg0wX",
        "outputId": "0c7ebdd8-ca48-4607-fe2c-821df54dcfef"
      },
      "outputs": [
        {
          "output_type": "error",
          "ename": "FileNotFoundError",
          "evalue": "ignored",
          "traceback": [
            "\u001b[0;31m---------------------------------------------------------------------------\u001b[0m",
            "\u001b[0;31mFileNotFoundError\u001b[0m                         Traceback (most recent call last)",
            "\u001b[0;32m<ipython-input-4-a393ba3aed98>\u001b[0m in \u001b[0;36m<module>\u001b[0;34m()\u001b[0m\n\u001b[1;32m      1\u001b[0m \u001b[0;31m# Importación de base de datos\u001b[0m\u001b[0;34m\u001b[0m\u001b[0;34m\u001b[0m\u001b[0;34m\u001b[0m\u001b[0m\n\u001b[0;32m----> 2\u001b[0;31m \u001b[0mdata\u001b[0m \u001b[0;34m=\u001b[0m \u001b[0mpd\u001b[0m\u001b[0;34m.\u001b[0m\u001b[0mread_excel\u001b[0m\u001b[0;34m(\u001b[0m\u001b[0;34m\"DATA.xlsx\"\u001b[0m\u001b[0;34m,\u001b[0m \u001b[0msheet_name\u001b[0m\u001b[0;34m=\u001b[0m \u001b[0;34m\"SALIDA FINAL\"\u001b[0m\u001b[0;34m)\u001b[0m\u001b[0;34m\u001b[0m\u001b[0;34m\u001b[0m\u001b[0m\n\u001b[0m\u001b[1;32m      3\u001b[0m \u001b[0mdata\u001b[0m\u001b[0;34m\u001b[0m\u001b[0;34m\u001b[0m\u001b[0m\n",
            "\u001b[0;32m/usr/local/lib/python3.7/dist-packages/pandas/util/_decorators.py\u001b[0m in \u001b[0;36mwrapper\u001b[0;34m(*args, **kwargs)\u001b[0m\n\u001b[1;32m    309\u001b[0m                     \u001b[0mstacklevel\u001b[0m\u001b[0;34m=\u001b[0m\u001b[0mstacklevel\u001b[0m\u001b[0;34m,\u001b[0m\u001b[0;34m\u001b[0m\u001b[0;34m\u001b[0m\u001b[0m\n\u001b[1;32m    310\u001b[0m                 )\n\u001b[0;32m--> 311\u001b[0;31m             \u001b[0;32mreturn\u001b[0m \u001b[0mfunc\u001b[0m\u001b[0;34m(\u001b[0m\u001b[0;34m*\u001b[0m\u001b[0margs\u001b[0m\u001b[0;34m,\u001b[0m \u001b[0;34m**\u001b[0m\u001b[0mkwargs\u001b[0m\u001b[0;34m)\u001b[0m\u001b[0;34m\u001b[0m\u001b[0;34m\u001b[0m\u001b[0m\n\u001b[0m\u001b[1;32m    312\u001b[0m \u001b[0;34m\u001b[0m\u001b[0m\n\u001b[1;32m    313\u001b[0m         \u001b[0;32mreturn\u001b[0m \u001b[0mwrapper\u001b[0m\u001b[0;34m\u001b[0m\u001b[0;34m\u001b[0m\u001b[0m\n",
            "\u001b[0;32m/usr/local/lib/python3.7/dist-packages/pandas/io/excel/_base.py\u001b[0m in \u001b[0;36mread_excel\u001b[0;34m(io, sheet_name, header, names, index_col, usecols, squeeze, dtype, engine, converters, true_values, false_values, skiprows, nrows, na_values, keep_default_na, na_filter, verbose, parse_dates, date_parser, thousands, comment, skipfooter, convert_float, mangle_dupe_cols, storage_options)\u001b[0m\n\u001b[1;32m    362\u001b[0m     \u001b[0;32mif\u001b[0m \u001b[0;32mnot\u001b[0m \u001b[0misinstance\u001b[0m\u001b[0;34m(\u001b[0m\u001b[0mio\u001b[0m\u001b[0;34m,\u001b[0m \u001b[0mExcelFile\u001b[0m\u001b[0;34m)\u001b[0m\u001b[0;34m:\u001b[0m\u001b[0;34m\u001b[0m\u001b[0;34m\u001b[0m\u001b[0m\n\u001b[1;32m    363\u001b[0m         \u001b[0mshould_close\u001b[0m \u001b[0;34m=\u001b[0m \u001b[0;32mTrue\u001b[0m\u001b[0;34m\u001b[0m\u001b[0;34m\u001b[0m\u001b[0m\n\u001b[0;32m--> 364\u001b[0;31m         \u001b[0mio\u001b[0m \u001b[0;34m=\u001b[0m \u001b[0mExcelFile\u001b[0m\u001b[0;34m(\u001b[0m\u001b[0mio\u001b[0m\u001b[0;34m,\u001b[0m \u001b[0mstorage_options\u001b[0m\u001b[0;34m=\u001b[0m\u001b[0mstorage_options\u001b[0m\u001b[0;34m,\u001b[0m \u001b[0mengine\u001b[0m\u001b[0;34m=\u001b[0m\u001b[0mengine\u001b[0m\u001b[0;34m)\u001b[0m\u001b[0;34m\u001b[0m\u001b[0;34m\u001b[0m\u001b[0m\n\u001b[0m\u001b[1;32m    365\u001b[0m     \u001b[0;32melif\u001b[0m \u001b[0mengine\u001b[0m \u001b[0;32mand\u001b[0m \u001b[0mengine\u001b[0m \u001b[0;34m!=\u001b[0m \u001b[0mio\u001b[0m\u001b[0;34m.\u001b[0m\u001b[0mengine\u001b[0m\u001b[0;34m:\u001b[0m\u001b[0;34m\u001b[0m\u001b[0;34m\u001b[0m\u001b[0m\n\u001b[1;32m    366\u001b[0m         raise ValueError(\n",
            "\u001b[0;32m/usr/local/lib/python3.7/dist-packages/pandas/io/excel/_base.py\u001b[0m in \u001b[0;36m__init__\u001b[0;34m(self, path_or_buffer, engine, storage_options)\u001b[0m\n\u001b[1;32m   1190\u001b[0m             \u001b[0;32melse\u001b[0m\u001b[0;34m:\u001b[0m\u001b[0;34m\u001b[0m\u001b[0;34m\u001b[0m\u001b[0m\n\u001b[1;32m   1191\u001b[0m                 ext = inspect_excel_format(\n\u001b[0;32m-> 1192\u001b[0;31m                     \u001b[0mcontent_or_path\u001b[0m\u001b[0;34m=\u001b[0m\u001b[0mpath_or_buffer\u001b[0m\u001b[0;34m,\u001b[0m \u001b[0mstorage_options\u001b[0m\u001b[0;34m=\u001b[0m\u001b[0mstorage_options\u001b[0m\u001b[0;34m\u001b[0m\u001b[0;34m\u001b[0m\u001b[0m\n\u001b[0m\u001b[1;32m   1193\u001b[0m                 )\n\u001b[1;32m   1194\u001b[0m                 \u001b[0;32mif\u001b[0m \u001b[0mext\u001b[0m \u001b[0;32mis\u001b[0m \u001b[0;32mNone\u001b[0m\u001b[0;34m:\u001b[0m\u001b[0;34m\u001b[0m\u001b[0;34m\u001b[0m\u001b[0m\n",
            "\u001b[0;32m/usr/local/lib/python3.7/dist-packages/pandas/io/excel/_base.py\u001b[0m in \u001b[0;36minspect_excel_format\u001b[0;34m(content_or_path, storage_options)\u001b[0m\n\u001b[1;32m   1069\u001b[0m \u001b[0;34m\u001b[0m\u001b[0m\n\u001b[1;32m   1070\u001b[0m     with get_handle(\n\u001b[0;32m-> 1071\u001b[0;31m         \u001b[0mcontent_or_path\u001b[0m\u001b[0;34m,\u001b[0m \u001b[0;34m\"rb\"\u001b[0m\u001b[0;34m,\u001b[0m \u001b[0mstorage_options\u001b[0m\u001b[0;34m=\u001b[0m\u001b[0mstorage_options\u001b[0m\u001b[0;34m,\u001b[0m \u001b[0mis_text\u001b[0m\u001b[0;34m=\u001b[0m\u001b[0;32mFalse\u001b[0m\u001b[0;34m\u001b[0m\u001b[0;34m\u001b[0m\u001b[0m\n\u001b[0m\u001b[1;32m   1072\u001b[0m     ) as handle:\n\u001b[1;32m   1073\u001b[0m         \u001b[0mstream\u001b[0m \u001b[0;34m=\u001b[0m \u001b[0mhandle\u001b[0m\u001b[0;34m.\u001b[0m\u001b[0mhandle\u001b[0m\u001b[0;34m\u001b[0m\u001b[0;34m\u001b[0m\u001b[0m\n",
            "\u001b[0;32m/usr/local/lib/python3.7/dist-packages/pandas/io/common.py\u001b[0m in \u001b[0;36mget_handle\u001b[0;34m(path_or_buf, mode, encoding, compression, memory_map, is_text, errors, storage_options)\u001b[0m\n\u001b[1;32m    709\u001b[0m         \u001b[0;32melse\u001b[0m\u001b[0;34m:\u001b[0m\u001b[0;34m\u001b[0m\u001b[0;34m\u001b[0m\u001b[0m\n\u001b[1;32m    710\u001b[0m             \u001b[0;31m# Binary mode\u001b[0m\u001b[0;34m\u001b[0m\u001b[0;34m\u001b[0m\u001b[0;34m\u001b[0m\u001b[0m\n\u001b[0;32m--> 711\u001b[0;31m             \u001b[0mhandle\u001b[0m \u001b[0;34m=\u001b[0m \u001b[0mopen\u001b[0m\u001b[0;34m(\u001b[0m\u001b[0mhandle\u001b[0m\u001b[0;34m,\u001b[0m \u001b[0mioargs\u001b[0m\u001b[0;34m.\u001b[0m\u001b[0mmode\u001b[0m\u001b[0;34m)\u001b[0m\u001b[0;34m\u001b[0m\u001b[0;34m\u001b[0m\u001b[0m\n\u001b[0m\u001b[1;32m    712\u001b[0m         \u001b[0mhandles\u001b[0m\u001b[0;34m.\u001b[0m\u001b[0mappend\u001b[0m\u001b[0;34m(\u001b[0m\u001b[0mhandle\u001b[0m\u001b[0;34m)\u001b[0m\u001b[0;34m\u001b[0m\u001b[0;34m\u001b[0m\u001b[0m\n\u001b[1;32m    713\u001b[0m \u001b[0;34m\u001b[0m\u001b[0m\n",
            "\u001b[0;31mFileNotFoundError\u001b[0m: [Errno 2] No such file or directory: 'DATA.xlsx'"
          ]
        }
      ],
      "source": [
        "# Importación de base de datos\n",
        "data = pd.read_excel(\"DATA.xlsx\", sheet_name= \"SALIDA FINAL\")\n",
        "data"
      ]
    },
    {
      "cell_type": "code",
      "execution_count": null,
      "metadata": {
        "id": "MjTLDdUQg2Jb"
      },
      "outputs": [],
      "source": [
        "#Numero de datos\n",
        "data.shape"
      ]
    },
    {
      "cell_type": "code",
      "execution_count": null,
      "metadata": {
        "id": "Yr80nxJng2HB"
      },
      "outputs": [],
      "source": [
        "# Dataset final -- A modo de series de tiempo\n",
        "data.index = pd.Index(data[\"Fecha\"])\n",
        "data.drop(\"Fecha\", axis = 1, inplace = True)\n",
        "print(data)"
      ]
    },
    {
      "cell_type": "markdown",
      "metadata": {
        "id": "RakLdv2aE4-I"
      },
      "source": [
        "#Pronostico de variables macro"
      ]
    },
    {
      "cell_type": "code",
      "source": [
        "# Importación de pronosticos\n",
        "macro = pd.read_excel(\"DATA.xlsx\", sheet_name= \"SALIDA MACRO\", index_col=0)\n",
        "macro"
      ],
      "metadata": {
        "id": "9FkjiLnxVjWf"
      },
      "execution_count": null,
      "outputs": []
    },
    {
      "cell_type": "code",
      "execution_count": null,
      "metadata": {
        "id": "4SG6GAMag2Eq"
      },
      "outputs": [],
      "source": [
        "#PRONOSTICOS FIN DE AÑO\n",
        "pron_fin = [\"P_IPC\", \"P_ISE\", \"P_BR\", \"P_PT\", \"P_FED\", \"P_PG\", \"P_IPC3\", \"P_BR6\", \"P_FED6\", \"P_PG6\", \"P_TRM\"]\n",
        "\n",
        "for i in range(0,11):\n",
        "  exec(\"%s = %f\" % (pron_fin[i], macro.iloc[0,i]))"
      ]
    },
    {
      "cell_type": "code",
      "execution_count": null,
      "metadata": {
        "id": "7IIfThomfv77"
      },
      "outputs": [],
      "source": [
        "#PRONOSTICOS 12 meses\n",
        "pron_12m = [\"P_IPC_12\", \"P_ISE_12\", \"P_BR_12\", \"P_PT_12\", \"P_FED_12\", \"P_PG_12\", \"P_IPC3_12\", \"P_BR6_12\", \"P_FED6_12\", \"P_PG6_12\", \"P_TRM_12\"]\n",
        "\n",
        "for i in range(0,11):\n",
        "  exec(\"%s = %f\" % (pron_12m[i], macro.iloc[1,i]))"
      ]
    },
    {
      "cell_type": "markdown",
      "metadata": {
        "id": "WTF7Zw-sFDiW"
      },
      "source": [
        "#Pre-parametrización del modelo"
      ]
    },
    {
      "cell_type": "code",
      "execution_count": null,
      "metadata": {
        "id": "2pvOS1NHl_Ha"
      },
      "outputs": [],
      "source": [
        "#Separamos en la matriz de variables y regresoras\n",
        "variables = data.iloc[:,0:19]\n",
        "variables.drop(\"Vista\", axis = 1, inplace = True)\n",
        "regresoras = data.iloc[:,22:]\n",
        "regresoras[\"TES MP\"] = data[\"TES MP\"]"
      ]
    },
    {
      "cell_type": "code",
      "execution_count": null,
      "metadata": {
        "id": "YQO2gynYxmzV"
      },
      "outputs": [],
      "source": [
        "m_col = ['ISE Mensual %', 'Brent (USD)']\n",
        "m_pei = ['IPC anual %', 'ISE Mensual %']\n",
        "m_deuda = ['Inflación T+3','BanRep T+6','TES MP']\n",
        "m_tes = ['Tasa FED %','Inflación T+3','BanRep T+6']\n",
        "m_ag = ['FED T+6', 'PIB Global T+6']\n",
        "m_vg = ['Tasa FED %', 'Brent (USD)']"
      ]
    },
    {
      "cell_type": "code",
      "execution_count": null,
      "metadata": {
        "id": "BtVBTs9cxOQq"
      },
      "outputs": [],
      "source": [
        "#Definimos los pronosticos macro fin año\n",
        "x_pred = pd.DataFrame(np.array([[P_IPC, P_ISE, P_BR, P_FED, P_PG, P_PT, P_IPC3, P_BR6, P_FED6, P_PG6, 0 ]]), columns= regresoras.columns)\n",
        "x_pred"
      ]
    },
    {
      "cell_type": "code",
      "execution_count": null,
      "metadata": {
        "id": "c3uCgO_viQ0S"
      },
      "outputs": [],
      "source": [
        "#Definimos los pronosticos 12 meses\n",
        "x_pred_12m = pd.DataFrame(np.array([[P_IPC_12, P_ISE_12, P_BR_12, P_FED_12, P_PG_12, P_PT_12, P_IPC3_12, P_BR6_12, P_FED6_12, P_PG6_12, 0 ]]), columns= regresoras.columns)\n",
        "x_pred_12m"
      ]
    },
    {
      "cell_type": "code",
      "execution_count": null,
      "metadata": {
        "id": "oIFOERn1KMgb"
      },
      "outputs": [],
      "source": [
        "#Creamos una matriz para alojar las proyecciones fin de año de los assets\n",
        "varcop = np.array([\"Acc G COP\",\t\"RF G COP\",\t\"Vista USD COP\"])\n",
        "varnor = np.array(variables.columns)\n",
        "columnas = np.append(varnor,varcop)\n",
        "columnas\n",
        "\n",
        "forecast_prices = pd.DataFrame(np.array([range(21)]), columns= columnas)\n",
        "forecast_prices"
      ]
    },
    {
      "cell_type": "code",
      "execution_count": null,
      "metadata": {
        "id": "RjuFdlPHhCr6"
      },
      "outputs": [],
      "source": [
        "#Creamos una matriz para alojar las proyecciones 12 meses de los assets\n",
        "forecast_prices_12m = pd.DataFrame(np.array([range(21)]), columns= columnas)\n",
        "forecast_prices_12m"
      ]
    },
    {
      "cell_type": "markdown",
      "source": [
        "# Modelo"
      ],
      "metadata": {
        "id": "ZNsT2EryhNot"
      }
    },
    {
      "cell_type": "code",
      "execution_count": null,
      "metadata": {
        "id": "zDABGS2nxOUs"
      },
      "outputs": [],
      "source": [
        "#COLCAP\n",
        "y = variables.iloc[:,0]\n",
        "x = regresoras[m_col]\n",
        "modelo = LinearRegression()\n",
        "modelo.fit(x, y)\n",
        "y_pred = modelo.predict(x_pred[m_col])\n",
        "forecast_prices[forecast_prices.columns[0]] = y_pred\n",
        "#12 meses\n",
        "y_pred = modelo.predict(x_pred_12m[m_col])\n",
        "forecast_prices_12m[forecast_prices_12m.columns[0]] = y_pred"
      ]
    },
    {
      "cell_type": "code",
      "execution_count": null,
      "metadata": {
        "id": "xf2q0SSGLYn2"
      },
      "outputs": [],
      "source": [
        "#PEI\n",
        "y = variables.iloc[:,1]\n",
        "x = regresoras[m_pei]\n",
        "modelo = LinearRegression()\n",
        "modelo.fit(x, y)\n",
        "y_pred = modelo.predict(x_pred[m_pei])\n",
        "forecast_prices[forecast_prices.columns[1]] = y_pred\n",
        "#12 meses\n",
        "y_pred = modelo.predict(x_pred_12m[m_pei])\n",
        "forecast_prices_12m[forecast_prices_12m.columns[1]] = y_pred"
      ]
    },
    {
      "cell_type": "code",
      "execution_count": null,
      "metadata": {
        "id": "MAgWA77jMqE0"
      },
      "outputs": [],
      "source": [
        "#TES\n",
        "for i in range(2,6):\n",
        "  y = variables.iloc[:,i]\n",
        "  x = regresoras[m_tes]\n",
        "  modelo = LinearRegression()\n",
        "  modelo.fit(x, y)  \n",
        "  y_pred = modelo.predict(x_pred[m_tes])\n",
        "  forecast_prices[forecast_prices.columns[i]] = y_pred\n",
        "  y_pred = modelo.predict(x_pred_12m[m_tes])                #12 meses\n",
        "  forecast_prices_12m[forecast_prices_12m.columns[i]] = y_pred"
      ]
    },
    {
      "cell_type": "code",
      "execution_count": null,
      "metadata": {
        "id": "9vwbkkiVM3fp"
      },
      "outputs": [],
      "source": [
        "#Incluimos TES MP en x_pred\n",
        "x_pred[\"TES MP\"] = forecast_prices[\"TES MP\"]\n",
        "x_pred_12m[\"TES MP\"] = forecast_prices_12m[\"TES MP\"]  #12 meses"
      ]
    },
    {
      "cell_type": "code",
      "execution_count": null,
      "metadata": {
        "id": "nGM2aF0GLpJT"
      },
      "outputs": [],
      "source": [
        "#Deuda\n",
        "for i in range(6,15):\n",
        "  y = variables.iloc[:,i]\n",
        "  x = regresoras[m_deuda]\n",
        "  modelo = LinearRegression()\n",
        "  modelo.fit(x, y)\n",
        "  y_pred = modelo.predict(x_pred[m_deuda])\n",
        "  forecast_prices[forecast_prices.columns[i]] = y_pred\n",
        "  y_pred = modelo.predict(x_pred_12m[m_deuda])            #12 meses\n",
        "  forecast_prices_12m[forecast_prices_12m.columns[i]] = y_pred"
      ]
    },
    {
      "cell_type": "code",
      "execution_count": null,
      "metadata": {
        "id": "Mj_6p4RHX0FJ"
      },
      "outputs": [],
      "source": [
        "#Activos Internacionales\n",
        "for i in range(15,17):\n",
        "  y = variables.iloc[:,i]\n",
        "  x = regresoras[m_ag]\n",
        "  modelo = LinearRegression()\n",
        "  modelo.fit(x, y)\n",
        "  y_pred = modelo.predict(x_pred[m_ag])\n",
        "  forecast_prices[forecast_prices.columns[i]] = y_pred\n",
        "  y_pred = modelo.predict(x_pred_12m[m_ag])               #12 meses\n",
        "  forecast_prices_12m[forecast_prices_12m.columns[i]] = y_pred\n",
        "\n",
        "#Vista DOLAR\n",
        "y = variables.iloc[:,17]\n",
        "x = regresoras[m_vg]\n",
        "modelo = LinearRegression()\n",
        "modelo.fit(x, y)\n",
        "y_pred = modelo.predict(x_pred[m_vg])\n",
        "forecast_prices[forecast_prices.columns[17]] = y_pred\n",
        "y_pred = modelo.predict(x_pred_12m[m_vg])                #12 meses\n",
        "forecast_prices_12m[forecast_prices_12m.columns[17]] = y_pred"
      ]
    },
    {
      "cell_type": "code",
      "execution_count": null,
      "metadata": {
        "id": "72VDAmTNx7Yv"
      },
      "outputs": [],
      "source": [
        "#Pesificamos las proyecciones de activos globales\n",
        "forecast_prices['Acc G COP'] = forecast_prices['Acc G USD'] * P_TRM\n",
        "forecast_prices['RF G COP'] = forecast_prices['RF G USD'] * P_TRM\n",
        "forecast_prices['Vista USD COP'] = forecast_prices['Vista USD'] * P_TRM\n",
        "\n",
        "#12 meses\n",
        "forecast_prices_12m['Acc G COP'] = forecast_prices_12m['Acc G USD'] * P_TRM_12\n",
        "forecast_prices_12m['RF G COP'] = forecast_prices_12m['RF G USD'] * P_TRM_12\n",
        "forecast_prices_12m['Vista USD COP'] = forecast_prices_12m['Vista USD'] * P_TRM_12"
      ]
    },
    {
      "cell_type": "code",
      "execution_count": null,
      "metadata": {
        "id": "p9IH-EklLTeu"
      },
      "outputs": [],
      "source": [
        "forecast_prices"
      ]
    },
    {
      "cell_type": "code",
      "source": [
        "forecast_prices_12m"
      ],
      "metadata": {
        "id": "o-cXb4wlktjF"
      },
      "execution_count": null,
      "outputs": []
    },
    {
      "cell_type": "markdown",
      "metadata": {
        "id": "nYk-Lh39Bslv"
      },
      "source": [
        "#Cálculo de retornos proyectados"
      ]
    },
    {
      "cell_type": "markdown",
      "source": [
        "##Fin de año"
      ],
      "metadata": {
        "id": "mJaEbMa8gROT"
      }
    },
    {
      "cell_type": "code",
      "execution_count": null,
      "metadata": {
        "id": "r8LRSNmCg1nU"
      },
      "outputs": [],
      "source": [
        "#Proyección de rentabilidades a fin de año\n",
        "#Creamos el data frame\n",
        "forescast_return_EA = pd.DataFrame(np.array([range(21)]), columns= columnas)\n",
        "forescast_return_EA"
      ]
    },
    {
      "cell_type": "code",
      "execution_count": null,
      "metadata": {
        "id": "aRuTi-bsg1kf"
      },
      "outputs": [],
      "source": [
        "#Calculamos los retornos proyectados a fin de año\n",
        "pos_fin_año = 60\n",
        "pos_fin_año = pos_fin_año -1\n",
        "nombres_col = forescast_return_EA.columns\n",
        "\n",
        "for i in range(21):\n",
        "  x = nombres_col[i]\n",
        "  forescast_return_EA[x] = np.log(forecast_prices[x]/data[x].iloc[pos_fin_año])"
      ]
    },
    {
      "cell_type": "code",
      "execution_count": null,
      "metadata": {
        "id": "ppcmK0FZ5b7A"
      },
      "outputs": [],
      "source": [
        "forescast_return_EA"
      ]
    },
    {
      "cell_type": "code",
      "execution_count": null,
      "metadata": {
        "id": "itfCADkog1iW"
      },
      "outputs": [],
      "source": [
        "#Rentabilidad corrida en el año\n",
        "#Creamos el data frame\n",
        "forescast_ret_corrido = pd.DataFrame(np.array([range(21)]), columns= columnas)\n",
        "forescast_ret_corrido"
      ]
    },
    {
      "cell_type": "code",
      "source": [
        "#Calculamos los retornos corridos en el año\n",
        "pos_año_corrido = len(data)\n",
        "pos_año_corrido = pos_año_corrido -1\n",
        "\n",
        "nombres_col = forescast_ret_corrido.columns\n",
        "\n",
        "for i in range(21):\n",
        "  x = nombres_col[i]\n",
        "  forescast_ret_corrido[x] = np.log(data[x].iloc[pos_año_corrido]/data[x].iloc[pos_fin_año])"
      ],
      "metadata": {
        "id": "QfQuI0b5_1V0"
      },
      "execution_count": null,
      "outputs": []
    },
    {
      "cell_type": "code",
      "source": [
        "forescast_ret_corrido"
      ],
      "metadata": {
        "id": "p8Kdk_tKJrJo"
      },
      "execution_count": null,
      "outputs": []
    },
    {
      "cell_type": "code",
      "source": [
        "#Rentabilidad faltante en el año\n",
        "#Creamos el data frame\n",
        "ret_faltante = pd.DataFrame(np.array([range(21)]), columns= columnas)\n",
        "ret_faltante"
      ],
      "metadata": {
        "id": "trNkkaiBRNqC"
      },
      "execution_count": null,
      "outputs": []
    },
    {
      "cell_type": "code",
      "source": [
        "#Calculamos el retorno faltante del año\n",
        "nombres_col = ret_faltante.columns\n",
        "\n",
        "for i in range(21):\n",
        "  x = nombres_col[i]\n",
        "  ret_faltante[x] = forescast_return_EA[x]-forescast_ret_corrido[x]"
      ],
      "metadata": {
        "id": "SGWxqnRvRNb3"
      },
      "execution_count": null,
      "outputs": []
    },
    {
      "cell_type": "code",
      "source": [
        "ret_faltante"
      ],
      "metadata": {
        "id": "0sWU1v6BR945"
      },
      "execution_count": null,
      "outputs": []
    },
    {
      "cell_type": "markdown",
      "source": [
        "## 12 meses"
      ],
      "metadata": {
        "id": "AM2jtxt-gZXe"
      }
    },
    {
      "cell_type": "code",
      "source": [
        "#Proyección de rentabilidades a fin de año\n",
        "#Creamos el data frame\n",
        "forescast_return_12m = pd.DataFrame(np.array([range(21)]), columns= columnas)\n",
        "forescast_return_12m"
      ],
      "metadata": {
        "id": "B_Kt0CRyk2w0"
      },
      "execution_count": null,
      "outputs": []
    },
    {
      "cell_type": "code",
      "source": [
        "#Calculamos los retornos proyectados a 12 meses\n",
        "pos_mes_actual = len(data)\n",
        "pos_mes_actual = pos_mes_actual -1\n",
        "nombres_col_12m = forescast_return_12m.columns\n",
        "\n",
        "for i in range(21):\n",
        "  x = nombres_col[i]\n",
        "  forescast_return_12m[x] = np.log(forecast_prices_12m[x]/data[x].iloc[pos_mes_actual])"
      ],
      "metadata": {
        "id": "IveEuY0pgdVb"
      },
      "execution_count": null,
      "outputs": []
    },
    {
      "cell_type": "code",
      "source": [
        "forescast_return_12m"
      ],
      "metadata": {
        "id": "KyOaTKWhm9qL"
      },
      "execution_count": null,
      "outputs": []
    },
    {
      "cell_type": "markdown",
      "source": [
        "#Descarga de proyecciones"
      ],
      "metadata": {
        "id": "p89QSzp8NYj3"
      }
    },
    {
      "cell_type": "code",
      "source": [
        "Base = pd.concat([forecast_prices, forescast_return_EA, forescast_ret_corrido, ret_faltante,forecast_prices_12m,forescast_return_12m])\n",
        "Base.index = [\"Precio proyectado Fin Año\", \"Rentabilidad EA Fin Año\", \"Rentabilidad año corrido\", \"Rentabilidad restante Fin Año\",\"Precio proyectado 12 meses\", \"Rentabilidad EA 12 meses\"]\n",
        "Base"
      ],
      "metadata": {
        "id": "FbrCESmZLzfJ"
      },
      "execution_count": null,
      "outputs": []
    },
    {
      "cell_type": "code",
      "source": [
        "Base.to_excel(\"Proyecciones final.xlsx\")"
      ],
      "metadata": {
        "id": "efbUiW8TLzc0"
      },
      "execution_count": null,
      "outputs": []
    }
  ],
  "metadata": {
    "colab": {
      "collapsed_sections": [],
      "name": "Modelo de Proyecciones Asset Class.ipynb",
      "provenance": [],
      "include_colab_link": true
    },
    "kernelspec": {
      "display_name": "Python 3",
      "name": "python3"
    },
    "language_info": {
      "name": "python"
    }
  },
  "nbformat": 4,
  "nbformat_minor": 0
}